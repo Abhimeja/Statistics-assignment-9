{
 "cells": [
  {
   "cell_type": "raw",
   "id": "74e7c453-3dcc-4f3d-9c98-8138a31ea06e",
   "metadata": {},
   "source": [
    "Q1. Write a Python function that takes in two arrays of data and calculates the F-value for a variance ratio\n",
    "test. The function should return the F-value and the corresponding p-value for the test.\n",
    "\n",
    "Ans--"
   ]
  },
  {
   "cell_type": "markdown",
   "id": "eff0f64c-f4c3-4687-9cfb-db0a46feb6e9",
   "metadata": {},
   "source": [
    "Python function that calculates the F-value and corresponding p-value for a variance ratio test using two input arrays of data. This function uses the scipy.stats module to perform the calculations."
   ]
  },
  {
   "cell_type": "code",
   "execution_count": 2,
   "id": "24dd6fff-82ad-49a8-9959-4b17483e60cb",
   "metadata": {},
   "outputs": [
    {
     "name": "stdout",
     "output_type": "stream",
     "text": [
      "F-value: 1.1704545454545452\n",
      "p-value: 0.44122056794679465\n"
     ]
    }
   ],
   "source": [
    "import numpy as np\n",
    "from scipy.stats import f\n",
    "\n",
    "def variance_ratio_test(array1,array2):\n",
    "    \"\"\"\n",
    "    Perform a variance ratio test on two arrays of data.\n",
    "\n",
    "    Parameters:\n",
    "    array1 (array-like): First array of data.\n",
    "    array2 (array-like): Second array of data.\n",
    "\n",
    "    Returns:\n",
    "    F_value (float): The calculated F-value for the test.\n",
    "    p_value (float): The corresponding p-value for the test.\n",
    "    \"\"\"\n",
    "    \n",
    "    # Calculate the variances of the two arrays\n",
    "    variance1 = np.var(array1, ddof=1)  # ddof=1 for sample variance\n",
    "    variance2 = np.var(array2, ddof=1)\n",
    "\n",
    "    # Calculate the F-value\n",
    "    F_value = variance1 / variance2\n",
    "\n",
    "    # Degrees of freedom for the F-distribution\n",
    "    df1 = len(array1) - 1\n",
    "    df2 = len(array2) - 1\n",
    "\n",
    "    # Calculate the p-value using the F-distribution\n",
    "    p_value = 1 - f.cdf(F_value, df1, df2)\n",
    "\n",
    "    return F_value, p_value\n",
    "\n",
    "# Example usage\n",
    "data1 = [2.5, 3.2, 4.7, 3.8, 5.1]\n",
    "data2 = [1.8, 2.9, 4.3, 2.5, 3.7]\n",
    "\n",
    "F_value, p_value = variance_ratio_test(data1, data2)\n",
    "print(\"F-value:\", F_value)\n",
    "print(\"p-value:\", p_value)   "
   ]
  },
  {
   "cell_type": "markdown",
   "id": "2b7699b8-d427-492d-8648-f091f9fe54ca",
   "metadata": {},
   "source": [
    "F-value is compared against the critical value of the F-distribution at a certain significance level to determine whether to reject the null hypothesis. The p-value indicates the probability of observing the calculated F-value or a more extreme value if the null hypothesis is true. If the p-value is below a chosen significance level (e.g., 0.05), you may reject the null hypothesis in favor of the alternative hypothesis."
   ]
  },
  {
   "cell_type": "raw",
   "id": "709521df-b865-47c0-8886-39dee36cb6a5",
   "metadata": {},
   "source": [
    "Q2. Given a significance level of 0.05 and the degrees of freedom for the numerator and denominator of an\n",
    "F-distribution, write a Python function that returns the critical F-value for a two-tailed test.\n",
    "\n",
    "Ans--"
   ]
  },
  {
   "cell_type": "markdown",
   "id": "b5538474-fdce-48af-8d4a-545448f48a87",
   "metadata": {},
   "source": [
    "The critical F-value for a two-tailed test given a significance level (alpha) and the degrees of freedom for the numerator (df1) and denominator (df2) of an F-distribution:"
   ]
  },
  {
   "cell_type": "code",
   "execution_count": 3,
   "id": "1a7238c5-8b73-4946-ba2a-48111549f030",
   "metadata": {},
   "outputs": [
    {
     "name": "stdout",
     "output_type": "stream",
     "text": [
      "Critical F-value: 4.152804030062877\n"
     ]
    }
   ],
   "source": [
    "from scipy.stats import f\n",
    "\n",
    "def critical_f_value(alpha, df1, df2):\n",
    "    \"\"\"\n",
    "    Calculate the critical F-value for a two-tailed test.\n",
    "\n",
    "    Parameters:\n",
    "    alpha (float): Significance level.\n",
    "    df1 (int): Degrees of freedom for the numerator.\n",
    "    df2 (int): Degrees of freedom for the denominator.\n",
    "\n",
    "    Returns:\n",
    "    crit_f_value (float): Critical F-value.\n",
    "    \"\"\"\n",
    "\n",
    "    # Calculate the critical F-value for a two-tailed test\n",
    "    crit_f_value = f.ppf(1 - alpha / 2, df1, df2)\n",
    "\n",
    "    return crit_f_value\n",
    "\n",
    "# Example usage\n",
    "alpha = 0.05\n",
    "degrees_of_freedom_numerator = 3\n",
    "degrees_of_freedom_denominator = 15\n",
    "\n",
    "crit_f = critical_f_value(alpha, degrees_of_freedom_numerator, degrees_of_freedom_denominator)\n",
    "print(\"Critical F-value:\", crit_f)"
   ]
  },
  {
   "cell_type": "markdown",
   "id": "176fe42b-3d17-4736-8261-7c36d5ef9c90",
   "metadata": {},
   "source": [
    "The critical_f_value function uses the scipy.stats.f.ppf function to calculate the critical F-value for a two-tailed test at the specified significance level and degrees of freedom. The alpha / 2 is used because we're interested in both tails of the distribution.\n",
    "\n",
    "The critical F-value is used to compare against the calculated F-value in a hypothesis test to determine whether to reject the null hypothesis. If the calculated F-value is greater than the critical F-value, you may reject the null hypothesis."
   ]
  },
  {
   "cell_type": "raw",
   "id": "748886cc-d79d-4741-be14-d3632ef09896",
   "metadata": {},
   "source": [
    "Q3. Write a Python program that generates random samples from two normal distributions with known\n",
    "variances and uses an F-test to determine if the variances are equal. The program should output the F-\n",
    "value, degrees of freedom, and p-value for the test.\n",
    "\n",
    "Ans--"
   ]
  },
  {
   "cell_type": "markdown",
   "id": "8c99e621-eca9-4e81-bcf9-1aba13b30fcf",
   "metadata": {},
   "source": [
    "Python program that generates random samples from two normal distributions with known variances and then performs an F-test to determine if the variances are equal. The program will output the calculated F-value, degrees of freedom, and p-value for the test:"
   ]
  },
  {
   "cell_type": "code",
   "execution_count": 4,
   "id": "3dd42fd9-34a8-411a-a6a6-62a9d51acf4e",
   "metadata": {},
   "outputs": [
    {
     "name": "stdout",
     "output_type": "stream",
     "text": [
      "F-value: 0.4371195342600079\n",
      "Degrees of freedom (numerator): 19\n",
      "Degrees of freedom (denominator): 19\n",
      "p-value: 0.07910528306062653\n",
      "Fail to reject null hypothesis (variances are equal)\n"
     ]
    }
   ],
   "source": [
    "import numpy as np\n",
    "from scipy.stats import f\n",
    "\n",
    "def perform_variance_equality_test(sample1,sample2,alpha=0.05):\n",
    "    \"\"\"\n",
    "    Perform an F-test for equality of variances.\n",
    "\n",
    "    Parameters:\n",
    "    sample1 (array-like): First sample of data.\n",
    "    sample2 (array-like): Second sample of data.\n",
    "    alpha (float): Significance level for the test.\n",
    "\n",
    "    Returns:\n",
    "    F_value (float): Calculated F-value.\n",
    "    df1 (int): Degrees of freedom for the numerator.\n",
    "    df2 (int): Degrees of freedom for the denominator.\n",
    "    p_value (float): Calculated p-value.\n",
    "    result (str): Result of the test (reject or fail to reject null hypothesis).\n",
    "    \"\"\"\n",
    "    \n",
    "    # Calculate variances of the samples\n",
    "    variance1 = np.var(sample1, ddof=1)\n",
    "    variance2 = np.var(sample2, ddof=1)\n",
    "\n",
    "    # Calculate the F-value\n",
    "    F_value = variance1 / variance2\n",
    "\n",
    "    # Degrees of freedom for the F-distribution\n",
    "    df1 = len(sample1) - 1\n",
    "    df2 = len(sample2) - 1\n",
    "\n",
    "    # Calculate the p-value using the F-distribution\n",
    "    p_value = 2 * min(f.cdf(F_value, df1, df2), 1 - f.cdf(F_value, df1, df2))\n",
    "\n",
    "    # Compare p-value with significance level\n",
    "    if p_value < alpha:\n",
    "        result = \"Reject null hypothesis (variances are not equal)\"\n",
    "        \n",
    "    else:\n",
    "        result = \"Fail to reject null hypothesis (variances are equal)\"\n",
    "\n",
    "    return F_value, df1, df2, p_value, result\n",
    "\n",
    "# Generate random samples from two normal distributions with known variances\n",
    "np.random.seed(42)\n",
    "sample1 = np.random.normal(loc=0, scale=1, size=20)\n",
    "sample2 = np.random.normal(loc=0, scale=1.5, size=20)\n",
    "\n",
    "# Perform the variance equality test\n",
    "F_value, df1, df2, p_value, result = perform_variance_equality_test(sample1, sample2)\n",
    "\n",
    "# Print the results\n",
    "print(\"F-value:\", F_value)\n",
    "print(\"Degrees of freedom (numerator):\", df1)\n",
    "print(\"Degrees of freedom (denominator):\", df2)\n",
    "print(\"p-value:\", p_value)\n",
    "print(result)"
   ]
  },
  {
   "cell_type": "markdown",
   "id": "f9a582b3-eb89-4c05-8807-9462e5efd867",
   "metadata": {},
   "source": [
    "we generate two random samples from normal distributions with known variances (scale parameter). The perform_variance_equality_test function calculates the F-value, degrees of freedom, and p-value for the F-test. The p-value is compared to the significance level (alpha) to determine whether to reject or fail to reject the null hypothesis. The result of the test is printed at the end."
   ]
  },
  {
   "cell_type": "raw",
   "id": "d1bf8774-4d11-4fd6-878c-e268a9272b7b",
   "metadata": {},
   "source": [
    "Q4.The variances of two populations are known to be 10 and 15. A sample of 12 observations is taken from\n",
    "each population. Conduct an F-test at the 5% significance level to determine if the variances are\n",
    "significantly different.\n",
    "\n",
    "Ans--"
   ]
  },
  {
   "cell_type": "markdown",
   "id": "68389cf1-ceae-441c-aaac-98c5afffd486",
   "metadata": {},
   "source": [
    "To conduct an F-test to determine if the variances of two populations are significantly different, you can follow these steps:\n",
    "\n",
    "State the null and alternative hypotheses:\n",
    "\n",
    "Null Hypothesis (H0): The variances of the two populations are equal.\n",
    "\n",
    "Alternative Hypothesis (H1): The variances of the two populations are not equal.\n",
    "\n",
    "Set the significance level (alpha) to 0.05.\n",
    "\n",
    "Calculate the F-value using the formula: F = Variance1 / Variance2\n",
    "\n",
    "Determine the degrees of freedom for the F-distribution:\n",
    "\n",
    "Degrees of Freedom (numerator) = Sample Size 1 - 1\n",
    "\n",
    "Degrees of Freedom (denominator) = Sample Size 2 - 1\n",
    "\n",
    "Use the calculated F-value and degrees of freedom to find the p-value from the F-distribution.\n",
    "\n",
    "Compare the p-value with the significance level:\n",
    "\n",
    "If p-value < alpha, reject the null hypothesis.\n",
    "\n",
    "If p-value >= alpha, fail to reject the null hypothesis.\n",
    "\n",
    "Here's how you can calculate and perform the F-test in Python:\n"
   ]
  },
  {
   "cell_type": "code",
   "execution_count": 5,
   "id": "baf1d4b2-a465-47bf-a466-02b608e64386",
   "metadata": {},
   "outputs": [
    {
     "name": "stdout",
     "output_type": "stream",
     "text": [
      "F-value: 0.6666666666666666\n",
      "Degrees of freedom (numerator): 11\n",
      "Degrees of freedom (denominator): 11\n",
      "p-value: 0.5123897987357996\n",
      "Fail to reject null hypothesis (variances are not significantly different)\n"
     ]
    }
   ],
   "source": [
    "from scipy.stats import f\n",
    "\n",
    "# Given values\n",
    "variance1 = 10\n",
    "variance2 = 15\n",
    "sample_size1 = 12\n",
    "sample_size2 = 12\n",
    "alpha = 0.05\n",
    "\n",
    "# Calculate the F-value\n",
    "F_value = variance1 / variance2\n",
    "\n",
    "# Degrees of freedom for the F-distribution\n",
    "df1 = sample_size1 - 1\n",
    "df2 = sample_size2 - 1\n",
    "\n",
    "# Calculate the p-value using the F-distribution\n",
    "p_value = 2 * min(f.cdf(F_value, df1, df2), 1 - f.cdf(F_value, df1, df2))\n",
    "\n",
    "# Compare p-value with alpha\n",
    "if p_value < alpha:\n",
    "    result = \"Reject null hypothesis (variances are significantly different)\"\n",
    "else:\n",
    "    result = \"Fail to reject null hypothesis (variances are not significantly different)\"\n",
    "\n",
    "# Print the results\n",
    "print(\"F-value:\", F_value)\n",
    "print(\"Degrees of freedom (numerator):\", df1)\n",
    "print(\"Degrees of freedom (denominator):\", df2)\n",
    "print(\"p-value:\", p_value)\n",
    "print(result)"
   ]
  },
  {
   "cell_type": "raw",
   "id": "221a1d69-6610-4e34-b720-a21d3b879e3c",
   "metadata": {},
   "source": [
    "Q5. A manufacturer claims that the variance of the diameter of a certain product is 0.005. A sample of 25\n",
    "products is taken, and the sample variance is found to be 0.006. Conduct an F-test at the 1% significance\n",
    "level to determine if the claim is justified.\n",
    "\n",
    "Ans--"
   ]
  },
  {
   "cell_type": "markdown",
   "id": "cc60beca-2a40-4288-846c-a806c913efd7",
   "metadata": {},
   "source": [
    "To conduct an F-test to determine if the manufacturer's claim about the variance is justified, you can follow similar steps as mentioned before:\n",
    "\n",
    "State the null and alternative hypotheses:\n",
    "\n",
    "Null Hypothesis (H0): The claimed variance is correct (population variance = 0.005).\n",
    "\n",
    "Alternative Hypothesis (H1): The claimed variance is not correct (population variance ≠ 0.005).\n",
    "\n",
    "Set the significance level (alpha) to 0.01.\n",
    "\n",
    "Calculate the F-value using the formula: F = Sample Variance / Claimed Variance\n",
    "\n",
    "Determine the degrees of freedom for the F-distribution:\n",
    "\n",
    "Degrees of Freedom (numerator) = Sample Size - 1\n",
    "\n",
    "Degrees of Freedom (denominator) = 1 (since you're comparing to a single value)\n",
    "\n",
    "Use the calculated F-value and degrees of freedom to find the p-value from the F-distribution.\n",
    "\n",
    "Compare the p-value with the significance level:\n",
    "\n",
    "If p-value < alpha, reject the null hypothesis.\n",
    "\n",
    "If p-value >= alpha, fail to reject the null hypothesis.\n",
    "\n",
    "Here's how you can calculate and perform the F-test in Python:"
   ]
  },
  {
   "cell_type": "code",
   "execution_count": 1,
   "id": "6978510d-84c0-4544-baa2-94cfcd6c1062",
   "metadata": {},
   "outputs": [
    {
     "name": "stdout",
     "output_type": "stream",
     "text": [
      "F-value: 1.2\n",
      "Degrees of freedom (numerator): 24\n",
      "Degrees of freedom (denominator): 1\n",
      "p-value: 0.7407800760081285\n",
      "Fail to reject null hypothesis (claim is justified)\n"
     ]
    }
   ],
   "source": [
    "from scipy.stats import f\n",
    "\n",
    "#Given value\n",
    "sample_variance = 0.006\n",
    "claimed_variance = 0.005\n",
    "sample_size = 25\n",
    "alpha = 0.01\n",
    "\n",
    "# Calculate the F-value \n",
    "F_value=sample_variance/claimed_variance\n",
    "\n",
    "# Degree of freedom for the F-distribution\n",
    "df1=sample_size-1\n",
    "df2=1 # Degree of freedom for denominator \n",
    "\n",
    "#Calculate the p-value using the F-distribution\n",
    "p_value = 2 * min(f.cdf(F_value,df1,df2),1-f.cdf(F_value,df1,df2))\n",
    "\n",
    "#Compare p-value with alpha\n",
    "if p_value < alpha:\n",
    "    result=\"Reject null hypothesis (claim is not justified)\"\n",
    "else:\n",
    "    result = \"Fail to reject null hypothesis (claim is justified)\"\n",
    "\n",
    "# Print the results\n",
    "print(\"F-value:\", F_value)\n",
    "print(\"Degrees of freedom (numerator):\", df1)\n",
    "print(\"Degrees of freedom (denominator):\", df2)\n",
    "print(\"p-value:\", p_value)\n",
    "print(result)"
   ]
  },
  {
   "cell_type": "markdown",
   "id": "a332e4f2-d848-4ea1-9162-3baea6f71ec6",
   "metadata": {},
   "source": [
    "The calculated F-value is compared against the critical value from the F-distribution to determine if the manufacturer's claim is justified."
   ]
  },
  {
   "cell_type": "raw",
   "id": "dcbf5a1b-431f-4ef3-9dc1-ae292f652ea8",
   "metadata": {},
   "source": [
    "Q6. Write a Python function that takes in the degrees of freedom for the numerator and denominator of an\n",
    "F-distribution and calculates the mean and variance of the distribution. The function should return the\n",
    "mean and variance as a tuple.\n",
    "\n",
    "Ans--"
   ]
  },
  {
   "cell_type": "markdown",
   "id": "a2c401aa-23a3-4d53-bd18-81b38ed5bf09",
   "metadata": {},
   "source": [
    "Python function that takes in the degrees of freedom for the numerator and denominator of an F-distribution and calculates the mean and variance of the distribution. The mean of an F-distribution is given by (denominator_degrees_of_freedom) / (denominator_degrees_of_freedom - 2) for denominator_degrees_of_freedom > 2. The variance formula for an F-distribution can be quite complex, involving gamma functions, so I'll provide an approximate formula that's often used:"
   ]
  },
  {
   "cell_type": "code",
   "execution_count": 2,
   "id": "9a3dc540-83ca-4cea-a006-d95c99e7ad44",
   "metadata": {},
   "outputs": [
    {
     "name": "stdout",
     "output_type": "stream",
     "text": [
      "Mean: 1.25\n",
      "Variance: 1.3541666666666667\n"
     ]
    }
   ],
   "source": [
    "def f_distribution_mean_variance(df1, df2):\n",
    "    \"\"\"\n",
    "    Calculate the mean and variance of an F-distribution.\n",
    "\n",
    "    Parameters:\n",
    "    df1 (int): Degrees of freedom for the numerator.\n",
    "    df2 (int): Degrees of freedom for the denominator.\n",
    "\n",
    "    Returns:\n",
    "    mean (float): Mean of the F-distribution.\n",
    "    variance (float): Variance of the F-distribution.\n",
    "    \"\"\"\n",
    "\n",
    "    if df2 <= 2:\n",
    "        raise ValueError(\"Denominator degrees of freedom must be greater than 2.\")\n",
    "\n",
    "    mean = df2 / (df2 - 2)\n",
    "\n",
    "    a = 2 * (df2 ** 2) * (df1 + df2 - 2)\n",
    "    b = df1 * (df2 - 2) ** 2 * (df2 - 4)\n",
    "    variance = (a / b) * (df2 > 4)\n",
    "\n",
    "    return mean, variance\n",
    "\n",
    "# Example usage\n",
    "df1 = 5\n",
    "df2 = 10\n",
    "\n",
    "mean, variance = f_distribution_mean_variance(df1, df2)\n",
    "print(\"Mean:\", mean)\n",
    "print(\"Variance:\", variance)"
   ]
  },
  {
   "cell_type": "markdown",
   "id": "c5ffc8a1-0ef4-432a-9c69-2e9f7115f90f",
   "metadata": {},
   "source": [
    "The mean of the F-distribution is calculated directly, and the variance is approximated using a formula that considers the degrees of freedom for the numerator and denominator. The variance formula is valid when denominator_degrees_of_freedom > 4. You can adjust the formulas or use more accurate methods depending on the context of your application."
   ]
  },
  {
   "cell_type": "raw",
   "id": "10b70d3a-c696-4184-91e6-0c0964335400",
   "metadata": {},
   "source": [
    "Q7. A random sample of 10 measurements is taken from a normal population with unknown variance. The\n",
    "sample variance is found to be 25. Another random sample of 15 measurements is taken from another\n",
    "normal population with unknown variance, and the sample variance is found to be 20. Conduct an F-test\n",
    "at the 10% significance level to determine if the variances are significantly different.\n",
    "\n",
    "Ans--"
   ]
  },
  {
   "cell_type": "markdown",
   "id": "e136d00e-ce0d-40fa-b64a-cdf210ce827a",
   "metadata": {},
   "source": [
    "To conduct an F-test to determine if the variances of two populations are significantly different, you can follow the steps mentioned earlier. Here's how you can perform the F-test for the given data:\n",
    "\n",
    "State the null and alternative hypotheses:\n",
    "\n",
    "Null Hypothesis (H0): The variances of the two populations are equal.\n",
    "\n",
    "Alternative Hypothesis (H1): The variances of the two populations are not equal.\n",
    "\n",
    "Set the significance level (alpha) to 0.10.\n",
    "\n",
    "Calculate the F-value using the formula: F = Sample Variance 1 / Sample Variance 2\n",
    "\n",
    "Determine the degrees of freedom for the F-distribution:\n",
    "\n",
    "Degrees of Freedom (numerator) = Sample Size 1 - 1\n",
    "\n",
    "Degrees of Freedom (denominator) = Sample Size 2 - 1\n",
    "\n",
    "Use the calculated F-value and degrees of freedom to find the p-value from the F-distribution.\n",
    "\n",
    "Compare the p-value with the significance level:\n",
    "\n",
    "If p-value < alpha, reject the null hypothesis.\n",
    "\n",
    "If p-value >= alpha, fail to reject the null hypothesis."
   ]
  },
  {
   "cell_type": "code",
   "execution_count": 3,
   "id": "65d11aa9-d08d-4ad7-9e9c-909ed16c08c7",
   "metadata": {},
   "outputs": [
    {
     "name": "stdout",
     "output_type": "stream",
     "text": [
      "F-value: 1.25\n",
      "Degrees of freedom (numerator): 9\n",
      "Degrees of freedom (denominator): 14\n",
      "p-value: 0.6832194382585954\n",
      "Fail to reject null hypothesis (variances are not significantly different)\n"
     ]
    }
   ],
   "source": [
    "from scipy.stats import f\n",
    "\n",
    "# Given values\n",
    "sample_variance1 = 25\n",
    "sample_variance2 = 20\n",
    "sample_size1 = 10\n",
    "sample_size2 = 15\n",
    "alpha = 0.10\n",
    "\n",
    "# Calculate the F-value\n",
    "F_value = sample_variance1 / sample_variance2\n",
    "\n",
    "# Degrees of freedom for the F-distribution\n",
    "df1 = sample_size1 - 1\n",
    "df2 = sample_size2 - 1\n",
    "\n",
    "# Calculate the p-value using the F-distribution\n",
    "p_value = 2 * min(f.cdf(F_value, df1, df2), 1 - f.cdf(F_value, df1, df2))\n",
    "\n",
    "# Compare p-value with alpha\n",
    "if p_value < alpha:\n",
    "    result = \"Reject null hypothesis (variances are significantly different)\"\n",
    "else:\n",
    "    result = \"Fail to reject null hypothesis (variances are not significantly different)\"\n",
    "\n",
    "# Print the results\n",
    "print(\"F-value:\", F_value)\n",
    "print(\"Degrees of freedom (numerator):\", df1)\n",
    "print(\"Degrees of freedom (denominator):\", df2)\n",
    "print(\"p-value:\", p_value)\n",
    "print(result)"
   ]
  },
  {
   "cell_type": "markdown",
   "id": "c1deb6ad-560f-4279-b6d7-ab56dd620f96",
   "metadata": {},
   "source": [
    "The calculated F-value is compared against the critical value from the F-distribution to determine if the variances are significantly different. The result of the test is printed at the end."
   ]
  },
  {
   "cell_type": "raw",
   "id": "c3a9fd8a-e172-4652-a885-5026852e1857",
   "metadata": {},
   "source": [
    "Q8. The following data represent the waiting times in minutes at two different restaurants on a Saturday\n",
    "night: Restaurant A: 24, 25, 28, 23, 22, 20, 27; Restaurant B: 31, 33, 35, 30, 32, 36. Conduct an F-test at the 5%\n",
    "significance level to determine if the variances are significantly different.\n",
    "\n",
    "Ans--"
   ]
  },
  {
   "cell_type": "markdown",
   "id": "dad51057-b154-46ff-be1a-bbf7cd0693f3",
   "metadata": {},
   "source": [
    "To conduct an F-test to determine if the variances of two populations are significantly different, you can follow the steps mentioned earlier. Here's how you can perform the F-test for the given data:\n",
    "\n",
    "State the null and alternative hypotheses:\n",
    "\n",
    "Null Hypothesis (H0): The variances of the two populations are equal.\n",
    "\n",
    "Alternative Hypothesis (H1): The variances of the two populations are not equal.\n",
    "\n",
    "Set the significance level (alpha) to 0.05.\n",
    "\n",
    "Calculate the sample variances for each restaurant.\n",
    "\n",
    "Calculate the F-value using the formula: F = Sample Variance of Restaurant A / Sample Variance of Restaurant B\n",
    "\n",
    "Determine the degrees of freedom for the F-distribution:\n",
    "\n",
    "Degrees of Freedom (numerator) = Sample Size of Restaurant A - 1\n",
    "\n",
    "Degrees of Freedom (denominator) = Sample Size of Restaurant B - 1\n",
    "\n",
    "Use the calculated F-value and degrees of freedom to find the p-value from the F-distribution.\n",
    "\n",
    "Compare the p-value with the significance level:\n",
    "\n",
    "If p-value < alpha, reject the null hypothesis.\n",
    "\n",
    "If p-value >= alpha, fail to reject the null hypothesis.\n",
    "\n",
    "Here's how you can calculate and perform the F-test in Python:"
   ]
  },
  {
   "cell_type": "code",
   "execution_count": 4,
   "id": "1af5c956-61af-4874-84a6-e6a1b4571efa",
   "metadata": {},
   "outputs": [
    {
     "name": "stdout",
     "output_type": "stream",
     "text": [
      "F-value: 1.4551907719609583\n",
      "Degrees of freedom (numerator): 6\n",
      "Degrees of freedom (denominator): 5\n",
      "p-value: 0.6974815747937484\n",
      "Fail to reject null hypothesis (variances are not significantly different)\n"
     ]
    }
   ],
   "source": [
    "from scipy.stats import f\n",
    "\n",
    "# Given data\n",
    "restaurant_A = [24, 25, 28, 23, 22, 20, 27]\n",
    "restaurant_B = [31, 33, 35, 30, 32, 36]\n",
    "alpha = 0.05\n",
    "\n",
    "# Calculate the sample variances\n",
    "sample_variance_A = sum((x - sum(restaurant_A)/len(restaurant_A))**2 for x in restaurant_A) / (len(restaurant_A) - 1)\n",
    "sample_variance_B = sum((x - sum(restaurant_B)/len(restaurant_B))**2 for x in restaurant_B) / (len(restaurant_B) - 1)\n",
    "\n",
    "# Calculate the F-value\n",
    "F_value = sample_variance_A / sample_variance_B\n",
    "\n",
    "# Degrees of freedom for the F-distribution\n",
    "df1 = len(restaurant_A) - 1\n",
    "df2 = len(restaurant_B) - 1\n",
    "\n",
    "# Calculate the p-value using the F-distribution\n",
    "p_value = 2 * min(f.cdf(F_value, df1, df2), 1 - f.cdf(F_value, df1, df2))\n",
    "\n",
    "# Compare p-value with alpha\n",
    "if p_value < alpha:\n",
    "    result = \"Reject null hypothesis (variances are significantly different)\"\n",
    "else:\n",
    "    result = \"Fail to reject null hypothesis (variances are not significantly different)\"\n",
    "\n",
    "# Print the results\n",
    "print(\"F-value:\", F_value)\n",
    "print(\"Degrees of freedom (numerator):\", df1)\n",
    "print(\"Degrees of freedom (denominator):\", df2)\n",
    "print(\"p-value:\", p_value)\n",
    "print(result)"
   ]
  },
  {
   "cell_type": "markdown",
   "id": "d87f0e1b-f391-465e-8796-163b2942cb24",
   "metadata": {},
   "source": [
    "The calculated F-value is compared against the critical value from the F-distribution to determine if the variances are significantly different. The result of the test is printed at the end"
   ]
  },
  {
   "cell_type": "code",
   "execution_count": null,
   "id": "c8bbc31b-a6c3-49a7-ba96-a1b560eb22b6",
   "metadata": {},
   "outputs": [],
   "source": []
  }
 ],
 "metadata": {
  "kernelspec": {
   "display_name": "Python 3 (ipykernel)",
   "language": "python",
   "name": "python3"
  },
  "language_info": {
   "codemirror_mode": {
    "name": "ipython",
    "version": 3
   },
   "file_extension": ".py",
   "mimetype": "text/x-python",
   "name": "python",
   "nbconvert_exporter": "python",
   "pygments_lexer": "ipython3",
   "version": "3.10.8"
  }
 },
 "nbformat": 4,
 "nbformat_minor": 5
}
